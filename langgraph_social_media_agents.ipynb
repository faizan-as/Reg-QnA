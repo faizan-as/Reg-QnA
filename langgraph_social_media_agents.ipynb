{
  "nbformat": 4,
  "nbformat_minor": 0,
  "metadata": {
    "colab": {
      "provenance": [],
      "collapsed_sections": [
        "S-QDDIS2QtUg"
      ],
      "include_colab_link": true
    },
    "kernelspec": {
      "name": "python3",
      "display_name": "Python 3"
    },
    "language_info": {
      "name": "python"
    }
  },
  "cells": [
    {
      "cell_type": "markdown",
      "metadata": {
        "id": "view-in-github",
        "colab_type": "text"
      },
      "source": [
        "<a href=\"https://colab.research.google.com/github/faizan-as/Reg-QnA/blob/main/langgraph_social_media_agents.ipynb\" target=\"_parent\"><img src=\"https://colab.research.google.com/assets/colab-badge.svg\" alt=\"Open In Colab\"/></a>"
      ]
    },
    {
      "cell_type": "code",
      "execution_count": null,
      "metadata": {
        "id": "51Pow5wRlK-y"
      },
      "outputs": [],
      "source": [
        "!pip install -Uqqq pip --progress-bar off\n",
        "!pip install -qqq langchain-groq==0.2.0 --progress-bar off\n",
        "!pip install -qqq langgraph==0.2.22 --progress-bar off"
      ]
    },
    {
      "cell_type": "code",
      "source": [
        "import sqlite3\n",
        "import textwrap\n",
        "from enum import Enum, auto\n",
        "from typing import List, Literal, Optional, TypedDict\n",
        "\n",
        "import matplotlib.pyplot as plt\n",
        "import numpy as np\n",
        "import pandas as pd\n",
        "from google.colab import userdata\n",
        "from IPython.display import Image, display\n",
        "from langchain_core.messages import HumanMessage, SystemMessage\n",
        "from langchain_groq import ChatGroq\n",
        "from langgraph.graph import END, StateGraph\n",
        "from pydantic import BaseModel, Field\n",
        "\n",
        "np.random.seed(42)\n",
        "\n",
        "MODEL = \"llama-3.3-70b-versatile\"\n",
        "\n",
        "llm = ChatGroq(temperature=0, model_name=MODEL, api_key=userdata.get(\"GROQ_API_KEY\"))"
      ],
      "metadata": {
        "id": "WvadWwdmk8qL"
      },
      "execution_count": null,
      "outputs": []
    },
    {
      "cell_type": "markdown",
      "source": [
        "## Agent Prompts"
      ],
      "metadata": {
        "id": "_TZ72TRVQj_7"
      }
    },
    {
      "cell_type": "code",
      "source": [
        "EDITOR_PROMPT = \"\"\"\n",
        "Rewrite for maximum social media engagement:\n",
        "\n",
        "- Use attention-grabbing, concise language\n",
        "- Inject personality and humor\n",
        "- Optimize formatting (short paragraphs)\n",
        "- Encourage interaction (questions, calls-to-action)\n",
        "- Ensure perfect grammar and spelling\n",
        "- Rewrite from first person perspective, when talking to an audience\n",
        "\n",
        "Use only the information provided in the text. Think carefully.\n",
        "\"\"\""
      ],
      "metadata": {
        "id": "Sqo8EkNetJrv"
      },
      "execution_count": null,
      "outputs": []
    },
    {
      "cell_type": "code",
      "source": [
        "TWITTER_PROMPT = \"\"\"\n",
        "Generate a high-engagement tweet from the given text:\n",
        "1. What problem does this solve?\n",
        "2. Focus on the main technical points/features\n",
        "3. Write a short, coherent paragraph (2-3 sentences max)\n",
        "4. Use natural, conversational language\n",
        "5. Optimize for virality: make it intriguing, relatable, or controversial\n",
        "6. Exclude emojis and hashtags\n",
        "\"\"\""
      ],
      "metadata": {
        "id": "d7ODWCwRoS9S"
      },
      "execution_count": null,
      "outputs": []
    },
    {
      "cell_type": "code",
      "source": [
        "TWITTER_CRITIQUE_PROMPT = \"\"\"\n",
        "You are a Tweet Critique Agent. Your task is to analyze tweets and provide actionable feedback to make them more engaging. Focus on:\n",
        "\n",
        "1. Clarity: Is the message clear and easy to understand?\n",
        "2. Hook: Does it grab attention in the first few words?\n",
        "3. Brevity: Is it concise while maintaining impact?\n",
        "4. Call-to-action: Does it encourage interaction or sharing?\n",
        "5. Tone: Is it appropriate for the intended audience?\n",
        "6. Storytelling: Does it evoke curiosity?\n",
        "7. Remove hype: Does it promise more than it delivers?\n",
        "\n",
        "Provide 2-3 specific suggestions to improve the tweet's engagement potential.\n",
        "Do not suggest hashtags. Keep your feedback concise and actionable.\n",
        "\n",
        "Your goal is to help the writer improve their social media writing skills and increase engagement with their posts.\n",
        "\"\"\""
      ],
      "metadata": {
        "id": "pULi6BrDEZfQ"
      },
      "execution_count": null,
      "outputs": []
    },
    {
      "cell_type": "code",
      "source": [
        "LINKEDIN_PROMPT = \"\"\"\n",
        "Write a compelling LinkedIn post from the given text. Structure it as follows:\n",
        "\n",
        "1. Eye-catching headline (5-7 words)\n",
        "2. Identify a key problem or challenge\n",
        "3. Provide a bullet list of key benefits/features\n",
        "4. Highlight a clear benefit or solution\n",
        "5. Conclude with a thought-provoking question\n",
        "\n",
        "Maintain a professional, informative tone. Avoid emojis and hashtags.\n",
        "Keep the post concise (50-80 words) and relevant to the industry.\n",
        "Focus on providing valuable insights or actionable takeaways that will resonate\n",
        "with professionals in the field.\n",
        "\"\"\""
      ],
      "metadata": {
        "id": "QbW0xQwjoZa9"
      },
      "execution_count": null,
      "outputs": []
    },
    {
      "cell_type": "code",
      "source": [
        "LINKEDIN_CRITIQUE_PROMPT = \"\"\"\n",
        "Your role is to analyze LinkedIn posts and provide actionable feedback to make them more engaging.\n",
        "Focus on the following aspects:\n",
        "\n",
        "1. Hook: Evaluate the opening line's ability to grab attention.\n",
        "2. Structure: Assess the post's flow and readability.\n",
        "3. Content value: Determine if the post provides useful information or insights.\n",
        "4. Call-to-action: Check if there's a clear next step for readers.\n",
        "5. Language: Suggest improvements in tone, style, and word choice.\n",
        "6. Visual elements: Recommend additions or changes to images, videos, or formatting.\n",
        "\n",
        "For each aspect, provide:\n",
        "- A brief assessment (1-2 sentences)\n",
        "- A specific suggestion for improvement\n",
        "- A concise example of the suggested change\n",
        "\n",
        "Conclude with an overall recommendation for the most impactful change the author can make to increase engagement.\n",
        "Your goal is to help the writer improve their social media writing skills and increase engagement with their posts.\n",
        "\"\"\""
      ],
      "metadata": {
        "id": "pNU-hd4FFDAg"
      },
      "execution_count": null,
      "outputs": []
    },
    {
      "cell_type": "markdown",
      "source": [
        "## Graph"
      ],
      "metadata": {
        "id": "1XWP998wQqiH"
      }
    },
    {
      "cell_type": "markdown",
      "source": [
        "### State"
      ],
      "metadata": {
        "id": "ncxmR3gEQsGa"
      }
    },
    {
      "cell_type": "code",
      "source": [
        "class Post(BaseModel):\n",
        "    \"\"\"A post written in different versions\"\"\"\n",
        "\n",
        "    drafts: List[str]\n",
        "    feedback: Optional[str]\n",
        "\n",
        "\n",
        "class AppState(TypedDict):\n",
        "    user_text: str\n",
        "    target_audience: str\n",
        "    edit_text: str\n",
        "    tweet: Post\n",
        "    linkedin_post: Post\n",
        "    n_drafts: int"
      ],
      "metadata": {
        "id": "Ya4nNn2SlFNE"
      },
      "execution_count": null,
      "outputs": []
    },
    {
      "cell_type": "markdown",
      "source": [
        "### Nodes"
      ],
      "metadata": {
        "id": "S-QDDIS2QtUg"
      }
    },
    {
      "cell_type": "code",
      "source": [
        "def editor_node(state: AppState):\n",
        "    prompt = f\"\"\"\n",
        "text:\n",
        "```\n",
        "{state[\"user_text\"]}\n",
        "```\n",
        "\"\"\".strip()\n",
        "    response = llm.invoke([SystemMessage(EDITOR_PROMPT), HumanMessage(prompt)])\n",
        "    return {\"edit_text\": response.content}"
      ],
      "metadata": {
        "id": "OBXphrQOr-5W"
      },
      "execution_count": null,
      "outputs": []
    },
    {
      "cell_type": "code",
      "source": [
        "def tweet_writer_node(state: AppState):\n",
        "\n",
        "    post = state[\"tweet\"]\n",
        "\n",
        "    feedback_prompt = (\n",
        "        \"\"\n",
        "        if not post.feedback\n",
        "        else f\"\"\"\n",
        "Tweet:\n",
        "```\n",
        "{post.drafts[-1]}\n",
        "```\n",
        "\n",
        "Use the feedback to improve it:\n",
        "```\n",
        "{post.feedback}\n",
        "```\n",
        "\"\"\".strip()\n",
        "    )\n",
        "\n",
        "    prompt = f\"\"\"\n",
        "text:\n",
        "```\n",
        "{state[\"edit_text\"]}\n",
        "```\n",
        "\n",
        "{feedback_prompt}\n",
        "\n",
        "Target audience: {state[\"target_audience\"]}\n",
        "\n",
        "Write only the text for the post\n",
        "\"\"\".strip()\n",
        "\n",
        "    response = llm.invoke([SystemMessage(TWITTER_PROMPT), HumanMessage(prompt)])\n",
        "    post.drafts.append(response.content)\n",
        "    return {\"tweet\": post}"
      ],
      "metadata": {
        "id": "rwlYcZQuyLEv"
      },
      "execution_count": null,
      "outputs": []
    },
    {
      "cell_type": "code",
      "source": [
        "def linkedin_writer_node(state: AppState):\n",
        "    post = state[\"linkedin_post\"]\n",
        "\n",
        "    feedback_prompt = (\n",
        "        \"\"\n",
        "        if not post.feedback\n",
        "        else f\"\"\"\n",
        "LinkedIn post:\n",
        "```\n",
        "{post.drafts[-1]}\n",
        "```\n",
        "\n",
        "Use the feedback to improve it:\n",
        "```\n",
        "{post.feedback}\n",
        "```\n",
        "\"\"\".strip()\n",
        "    )\n",
        "\n",
        "    prompt = f\"\"\"\n",
        "text:\n",
        "```\n",
        "{state[\"edit_text\"]}\n",
        "```\n",
        "\n",
        "{feedback_prompt}\n",
        "\n",
        "Target audience: {state[\"target_audience\"]}\n",
        "\n",
        "Write only the text for the post\n",
        "\"\"\".strip()\n",
        "\n",
        "    response = llm.invoke([SystemMessage(LINKEDIN_PROMPT), HumanMessage(prompt)])\n",
        "    post.drafts.append(response.content)\n",
        "    return {\"linkedin_post\": post}"
      ],
      "metadata": {
        "id": "aTA_DFUl7Qco"
      },
      "execution_count": null,
      "outputs": []
    },
    {
      "cell_type": "code",
      "source": [
        "def critique_tweet_node(state: AppState):\n",
        "    post = state[\"tweet\"]\n",
        "\n",
        "    prompt = f\"\"\"\n",
        "Full post:\n",
        "```\n",
        "{state[\"edit_text\"]}\n",
        "```\n",
        "\n",
        "Suggested tweet (critique this):\n",
        "```\n",
        "{post.drafts[-1]}\n",
        "```\n",
        "\n",
        "Target audience: {state[\"target_audience\"]}\n",
        "\"\"\".strip()\n",
        "\n",
        "    response = llm.invoke(\n",
        "        [SystemMessage(TWITTER_CRITIQUE_PROMPT), HumanMessage(prompt)]\n",
        "    )\n",
        "    post.feedback = response.content\n",
        "    return {\"tweet\": post}"
      ],
      "metadata": {
        "id": "-eJlk7T7jVvI"
      },
      "execution_count": null,
      "outputs": []
    },
    {
      "cell_type": "code",
      "source": [
        "def critique_linkedin_node(state: AppState):\n",
        "    post = state[\"linkedin_post\"]\n",
        "\n",
        "    prompt = f\"\"\"\n",
        "Full post:\n",
        "```\n",
        "{state[\"edit_text\"]}\n",
        "```\n",
        "\n",
        "Suggested LinkedIn post (critique this):\n",
        "```\n",
        "{post.drafts[-1]}\n",
        "```\n",
        "\n",
        "Target audience: {state[\"target_audience\"]}\n",
        "\"\"\".strip()\n",
        "\n",
        "    response = llm.invoke(\n",
        "        [SystemMessage(LINKEDIN_CRITIQUE_PROMPT), HumanMessage(prompt)]\n",
        "    )\n",
        "    post.feedback = response.content\n",
        "    return {\"linkedin_post\": post}"
      ],
      "metadata": {
        "id": "PPychBcQx8iT"
      },
      "execution_count": null,
      "outputs": []
    },
    {
      "cell_type": "code",
      "source": [
        "def supervisor_node(state: AppState):\n",
        "    return state"
      ],
      "metadata": {
        "id": "w73uiuRpZL6c"
      },
      "execution_count": null,
      "outputs": []
    },
    {
      "cell_type": "markdown",
      "source": [
        "### Edges"
      ],
      "metadata": {
        "id": "95ChRZW8QvbM"
      }
    },
    {
      "cell_type": "code",
      "source": [
        "def should_rewrite(\n",
        "    state: AppState,\n",
        ") -> Literal[[\"linkedin_critique\", \"tweet_critique\"], END]:\n",
        "    tweet = state[\"tweet\"]\n",
        "    linkedin_post = state[\"linkedin_post\"]\n",
        "    n_drafts = state[\"n_drafts\"]\n",
        "    if len(tweet.drafts) >= n_drafts and len(linkedin_post.drafts) >= n_drafts:\n",
        "        return END\n",
        "\n",
        "    return [\"linkedin_critique\", \"tweet_critique\"]"
      ],
      "metadata": {
        "id": "DzwPBynKWjL2"
      },
      "execution_count": null,
      "outputs": []
    },
    {
      "cell_type": "markdown",
      "source": [
        "### Build a Graph"
      ],
      "metadata": {
        "id": "KS0XvJm1XDAx"
      }
    },
    {
      "cell_type": "code",
      "source": [
        "graph = StateGraph(AppState)\n",
        "\n",
        "graph.add_node(\"editor\", editor_node)\n",
        "graph.add_node(\"tweet_writer\", tweet_writer_node)\n",
        "graph.add_node(\"tweet_critique\", critique_tweet_node)\n",
        "graph.add_node(\"linkedin_writer\", linkedin_writer_node)\n",
        "graph.add_node(\"linkedin_critique\", critique_linkedin_node)\n",
        "graph.add_node(\"supervisor\", supervisor_node)\n",
        "\n",
        "graph.add_edge(\"editor\", \"tweet_writer\")\n",
        "graph.add_edge(\"editor\", \"linkedin_writer\")\n",
        "\n",
        "graph.add_edge(\"tweet_writer\", \"supervisor\")\n",
        "graph.add_edge(\"linkedin_writer\", \"supervisor\")\n",
        "graph.add_conditional_edges(\"supervisor\", should_rewrite)\n",
        "\n",
        "graph.add_edge(\"tweet_critique\", \"tweet_writer\")\n",
        "graph.add_edge(\"linkedin_critique\", \"linkedin_writer\")\n",
        "\n",
        "graph.set_entry_point(\"editor\")\n",
        "\n",
        "app = graph.compile()"
      ],
      "metadata": {
        "id": "flkLy9DKwU2I"
      },
      "execution_count": null,
      "outputs": []
    },
    {
      "cell_type": "code",
      "source": [
        "display(Image(app.get_graph().draw_mermaid_png()))"
      ],
      "metadata": {
        "colab": {
          "base_uri": "https://localhost:8080/",
          "height": 563
        },
        "id": "aoC3DWzzwdf4",
        "outputId": "cc465864-aa9b-47d3-c9bd-282459699797"
      },
      "execution_count": null,
      "outputs": [
        {
          "output_type": "display_data",
          "data": {
            "image/png": "[encoded data removed]",
            "text/plain": [
              "<IPython.core.display.Image object>"
            ]
          },
          "metadata": {}
        }
      ]
    },
    {
      "cell_type": "markdown",
      "source": [
        "## Use the Graph"
      ],
      "metadata": {
        "id": "Q_-BzRsLaLqU"
      }
    },
    {
      "cell_type": "code",
      "source": [
        "%%time\n",
        "config = {\"configurable\": {\"thread_id\": 42}}\n",
        "\n",
        "user_text = \"\"\"\n",
        "With 22 billion parameters, Mistral Small v24.09 offers customers a convenient mid-point between Mistral NeMo 12B and Mistral Large 2,\n",
        "providing a cost-effective solution that can be deployed across various platforms and environments.\n",
        "The new small model delivers significant improvements in human alignment, reasoning capabilities, and code over the previous model.\n",
        "\n",
        "Mistral-Small-Instruct-2409 is an instruct fine-tuned version with the following characteristics:\n",
        "\n",
        "- 22B parameters\n",
        "- Vocabulary to 32768\n",
        "- Supports function calling\n",
        "- 128k sequence length\n",
        "\n",
        "Mistral Small v24.09 is released under the MRL license. You may self-deploy it for non-commercial purposes, using e.g. vLLM\n",
        "\n",
        "Weights on HuggingFace hub: https://huggingface.co/mistralai/Mistral-Small-Instruct-2409\n",
        "\"\"\"\n",
        "\n",
        "state = app.invoke(\n",
        "    {\n",
        "        \"user_text\": user_text,\n",
        "        \"target_audience\": \"AI/ML engineers and researchers, Data Scientists\",\n",
        "        \"tweet\": Post(drafts=[], feedback=None),\n",
        "        \"linkedin_post\": Post(drafts=[], feedback=None),\n",
        "        \"n_drafts\": 3,\n",
        "    },\n",
        "    config=config,\n",
        ")"
      ],
      "metadata": {
        "colab": {
          "base_uri": "https://localhost:8080/"
        },
        "id": "12-h1dHUwnHz",
        "outputId": "aba3d633-bbae-4a78-cf3a-ca56a68b7f71"
      },
      "execution_count": null,
      "outputs": [
        {
          "output_type": "stream",
          "name": "stdout",
          "text": [
            "CPU times: user 117 ms, sys: 17.1 ms, total: 134 ms\n",
            "Wall time: 8.46 s\n"
          ]
        }
      ]
    },
    {
      "cell_type": "markdown",
      "source": [
        "## Post Drafts"
      ],
      "metadata": {
        "id": "3Yrr_iB1aOlf"
      }
    },
    {
      "cell_type": "code",
      "source": [
        "print(state[\"edit_text\"])"
      ],
      "metadata": {
        "colab": {
          "base_uri": "https://localhost:8080/"
        },
        "id": "eT-NEBzxwzSR",
        "outputId": "fbf8fa2e-c650-43f8-e16c-af9dee8caffb"
      },
      "execution_count": null,
      "outputs": [
        {
          "output_type": "stream",
          "name": "stdout",
          "text": [
            "Big News\n",
            "I'm excited to introduce Mistral Small v24.09, the perfect middle ground between Mistral NeMo 12B and Mistral Large 2. With 22 billion parameters, this model offers a cost-effective solution that can be deployed anywhere.\n",
            "\n",
            "What's New?\n",
            "Mistral Small v24.09 brings significant improvements in human alignment, reasoning, and code. It's a game-changer! And, with the instruct fine-tuned version, Mistral-Small-Instruct-2409, you get:\n",
            "\n",
            "* 22B parameters\n",
            "* A massive vocabulary of 32768\n",
            "* Function calling support\n",
            "* A sequence length of 128k\n",
            "\n",
            "Get Ready to Deploy\n",
            "Mistral Small v24.09 is released under the MRL license, which means you can self-deploy it for non-commercial purposes. Want to give it a try? Check out the weights on HuggingFace hub: https://huggingface.co/mistralai/Mistral-Small-Instruct-2409\n",
            "\n",
            "What will you create with Mistral Small v24.09? Share your projects and ideas with me!\n"
          ]
        }
      ]
    },
    {
      "cell_type": "code",
      "source": [
        "for i, draft in enumerate(state[\"tweet\"].drafts):\n",
        "    print(f\"Draft #{i+1}\")\n",
        "    print(\"-\" * 10)\n",
        "    print(textwrap.fill(draft, 80))\n",
        "    print()"
      ],
      "metadata": {
        "id": "oi_FbkPjtSgc",
        "colab": {
          "base_uri": "https://localhost:8080/"
        },
        "outputId": "3b82b4e6-4b89-4a37-bb54-63d995e9e388"
      },
      "execution_count": null,
      "outputs": [
        {
          "output_type": "stream",
          "name": "stdout",
          "text": [
            "Draft #1\n",
            "----------\n",
            "Introducing Mistral Small v24.09, a cost-effective AI model with 22 billion\n",
            "parameters that offers a perfect balance between performance and deployability,\n",
            "bringing significant improvements in human alignment, reasoning, and code. This\n",
            "model boasts a massive vocabulary and function calling support, making it a\n",
            "game-changer for various applications. With its release under the MRL license,\n",
            "you can now self-deploy it for non-commercial purposes and explore its\n",
            "capabilities.\n",
            "\n",
            "Draft #2\n",
            "----------\n",
            "Revolutionize your AI projects with Mistral Small v24.09, a cost-effective model\n",
            "that balances performance and deployability with 22 billion parameters. This\n",
            "game-changing technology brings significant improvements in human alignment,\n",
            "reasoning, and code, and can be self-deployed for non-commercial purposes, so\n",
            "try it out now and explore its capabilities.\n",
            "\n",
            "Draft #3\n",
            "----------\n",
            "Unlock 22B parameters with Mistral Small v24.09, a cost-effective AI model that\n",
            "balances performance and deployability, and can be self-deployed for non-\n",
            "commercial use, download now on HuggingFace hub and explore its capabilities\n",
            "today.\n",
            "\n"
          ]
        }
      ]
    },
    {
      "cell_type": "code",
      "source": [
        "print(state[\"tweet\"].feedback)"
      ],
      "metadata": {
        "colab": {
          "base_uri": "https://localhost:8080/"
        },
        "id": "ka4qTpmjTUiu",
        "outputId": "9d7ea0c3-60c8-41c8-a0ef-25dd6ef89f6b"
      },
      "execution_count": null,
      "outputs": [
        {
          "output_type": "stream",
          "name": "stdout",
          "text": [
            "Here are 3 specific suggestions to improve the tweet's engagement potential:\n",
            "\n",
            "1. **Start with a stronger hook**: Instead of \"Revolutionize your AI projects\", consider \"Unlock 22B parameters\" or \"Transform your AI workflows\" to grab attention immediately.\n",
            "2. **Make it more concise**: The tweet is a bit long and tries to pack too much information. Focus on the key benefits and unique value proposition, such as \"Cost-effective AI model with 22B parameters\" and \"Self-deployable for non-commercial use\".\n",
            "3. **Add a clear call-to-action**: Instead of \"try it out now\", consider \"Download now on HuggingFace hub\" or \"Explore its capabilities today\" to encourage interaction and drive traffic to the resource.\n"
          ]
        }
      ]
    },
    {
      "cell_type": "code",
      "source": [
        "for i, draft in enumerate(state[\"linkedin_post\"].drafts):\n",
        "    print(f\"Draft #{i+1}\")\n",
        "    print(\"-\" * 10)\n",
        "    print(draft)\n",
        "    print()"
      ],
      "metadata": {
        "colab": {
          "base_uri": "https://localhost:8080/"
        },
        "id": "-AZvWTgst9in",
        "outputId": "310102aa-7877-44e0-eb17-ff235bbf372f"
      },
      "execution_count": null,
      "outputs": [
        {
          "output_type": "stream",
          "name": "stdout",
          "text": [
            "Draft #1\n",
            "----------\n",
            "Revolutionizing AI Models\n",
            "Mistral Small v24.09 addresses deployment challenges with:\n",
            "* 22B parameters\n",
            "* Large vocabulary\n",
            "* Function calling support\n",
            "Offering a cost-effective solution, what innovative applications will you develop with this technology?\n",
            "\n",
            "Draft #2\n",
            "----------\n",
            "Cost-Effective AI Deployment\n",
            "Deploying large AI models can be costly and complex. Mistral Small v24.09 addresses these challenges with:\n",
            "* 22B parameters\n",
            "* Large vocabulary\n",
            "* Function calling support\n",
            "Offering improved performance and reduced costs, what innovative applications will you develop with this technology?\n",
            "\n",
            "Draft #3\n",
            "----------\n",
            "Tired of AI deployment costs holding you back? \n",
            "Mistral Small v24.09 addresses these challenges with:\n",
            "* 22B parameters\n",
            "* Large vocabulary\n",
            "* Function calling support\n",
            "What innovative applications will you develop with this technology?\n",
            "\n"
          ]
        }
      ]
    },
    {
      "cell_type": "code",
      "source": [
        "print(state[\"linkedin_post\"].feedback)"
      ],
      "metadata": {
        "colab": {
          "base_uri": "https://localhost:8080/"
        },
        "id": "ArXB_zx0Zr-p",
        "outputId": "3eb954bf-54e8-4069-abe2-18be6eadd4ba"
      },
      "execution_count": null,
      "outputs": [
        {
          "output_type": "stream",
          "name": "stdout",
          "text": [
            "### Hook\n",
            "Assessment: The opening line \"Cost-Effective AI Deployment\" is straightforward but may not immediately grab the attention of the target audience, as it's quite generic. \n",
            "Suggestion: Start with a more provocative statement or a question that resonates with the challenges AI/ML engineers and researchers face.\n",
            "Example: \"Tired of AI deployment costs holding you back? Discover how Mistral Small v24.09 is changing the game with its cost-effective solution.\"\n",
            "\n",
            "### Structure\n",
            "Assessment: The post is concise but lacks a clear flow from introducing the problem to presenting the solution and then calling for action. \n",
            "Suggestion: Break down the post into clear sections or sentences that introduce the challenge, present Mistral Small v24.09 as the solution, and then invite engagement.\n",
            "Example: \n",
            "\"Deploying large AI models can be costly and complex. \n",
            "Mistral Small v24.09 addresses these challenges with its 22B parameters, large vocabulary, and function calling support. \n",
            "What innovative applications will you develop with this technology?\"\n",
            "\n",
            "### Content Value\n",
            "Assessment: The post provides some useful information about Mistral Small v24.09 but lacks depth and specific insights that would make it truly valuable to AI/ML engineers and researchers.\n",
            "Suggestion: Add more details about what makes Mistral Small v24.09 unique, its potential applications, or how it compares to other solutions.\n",
            "Example: \"Mistral Small v24.09 not only offers 22B parameters and a large vocabulary but also supports function calling, making it a versatile tool for a wide range of AI applications, from natural language processing to code generation.\"\n",
            "\n",
            "### Call-to-Action\n",
            "Assessment: The call-to-action (\"Offering improved performance and reduced costs, what innovative applications will you develop with this technology?\") is somewhat vague and doesn't provide a clear next step for readers.\n",
            "Suggestion: Make the call-to-action more specific, such as inviting readers to share their projects, ask questions, or explore the model further.\n",
            "Example: \"We'd love to see what you create with Mistral Small v24.09! Share your projects, ask us questions, or explore the model on HuggingFace hub: https://huggingface.co/mistralai/Mistral-Small-Instruct-2409\"\n",
            "\n",
            "### Language\n",
            "Assessment: The language is technical and suitable for the target audience but could be more engaging and less formal.\n",
            "Suggestion: Use a more conversational tone while maintaining technical accuracy to make the post more approachable.\n",
            "Example: Instead of \"Offering improved performance and reduced costs,\" say \"Imagine what you could achieve with better performance at a lower cost!\"\n",
            "\n",
            "### Visual Elements\n",
            "Assessment: The post lacks visual elements, which could make it less engaging and harder to read.\n",
            "Suggestion: Add relevant images, diagrams, or even a simple emoji to break up the text and illustrate key points.\n",
            "Example: Adding a simple diagram showing the comparison between different models or a screenshot of the HuggingFace hub page could enhance engagement.\n",
            "\n",
            "### Overall Recommendation\n",
            "The most impactful change the author can make to increase engagement is to **start with a hook that resonates with the target audience's challenges and interests**, followed by providing more detailed and insightful content that showcases the value of Mistral Small v24.09. By making these adjustments, the post can better capture the attention of AI/ML engineers and researchers, encourage them to read on, and invite meaningful engagement.\n"
          ]
        }
      ]
    }
  ]
}